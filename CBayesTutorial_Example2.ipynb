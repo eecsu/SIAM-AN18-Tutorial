{
 "cells": [
  {
   "cell_type": "markdown",
   "metadata": {},
   "source": [
    "# An Introduction to \"Consistent Bayesian\" Inversion \n",
    "\n",
    "## Example 2: A higher dimensional problem and template for working with data sets\n",
    "\n",
    "This tutorial shows how to perform consistent Bayesian inversion directly on any data set. \n",
    "\n",
    "In particular, we use a data set for the 100-dimensional example shown in  \n",
    "\n",
    "_[***Combining Push-Forward Measures and Bayes' Rule to Construct Consistent Solutions to Stochastic Inverse Problems\n",
    "***, T. Butler, J. Jakeman, T. Wildey, SIAM J. Sci. Comput., 40(2), A984–A1011](https://epubs.siam.org/doi/abs/10.1137/16M1087229)_"
   ]
  },
  {
   "cell_type": "markdown",
   "metadata": {},
   "source": [
    "## Libraries\n",
    "\n",
    " * We make use of `numpy` to handle the sample sets defined as arrays, and we also use the `random` subpackage within `numpy` to generate random samples of various distributions.\n",
    " \n",
    " \n",
    " * We use a standard kernel density estimator in `scipy.stats` to approximate the densities on sample sets.\n",
    " \n",
    " \n",
    " * We use `matplotlib.pyplot` to visualize results.\n",
    " \n",
    " \n",
    " * We use `scipy.io` to load a data set. The `scipy.io` can read/write many data formats and is an overall useful way to connect Python scripts to computational codes written in almost any language. Read more about `scip.io` here https://docs.scipy.org/doc/scipy/reference/io.html."
   ]
  },
  {
   "cell_type": "code",
   "execution_count": 1,
   "metadata": {
    "collapsed": true
   },
   "outputs": [],
   "source": [
    "# The libraries we will use\n",
    "import numpy as np\n",
    "import matplotlib.pyplot as plt\n",
    "from scipy.stats import chi2, gaussian_kde as GKDE\n",
    "from scipy.stats import norm \n",
    "import scipy.io as sio"
   ]
  },
  {
   "cell_type": "markdown",
   "metadata": {},
   "source": [
    "## Load the data set containing both QoI and parameter samples\n",
    "\n",
    "Loading the data set `elliptic_kde100_10k.mat` creates a dictionary where\n",
    "\n",
    "\n",
    " * QoI samples are \"tagged\" with the key `qq` and are a $10000\\times 3$ array, but we only consider the first QoI samples defined by the first column of this array.\n",
    "\n",
    "\n",
    " * Parameter samples are \"tagged\" with the key `pp` and are a $10000\\times 100$ array."
   ]
  },
  {
   "cell_type": "code",
   "execution_count": 2,
   "metadata": {
    "collapsed": true
   },
   "outputs": [],
   "source": [
    "data_set = sio.loadmat('elliptic_kde100_10K.mat')\n",
    "qvals = data_set['qq'] # QoI samples\n",
    "qvals = qvals[:,0] # Only using first QoI here\n",
    "lam = data_set['pp'] # parameter samples"
   ]
  },
  {
   "cell_type": "markdown",
   "metadata": {},
   "source": [
    "## What are the observations?\n",
    "\n",
    "While it is possible/reasonable for the observed data or a description of the observed density to be included with the data set, we instead consider the situation where observations are collected independently/separately from the experiments/simulations. \n",
    "\n",
    "For the sake of argument, we assume that the observations lead to a $N(0.7,0.01^2)$ density being defined on the QoI."
   ]
  },
  {
   "cell_type": "code",
   "execution_count": 3,
   "metadata": {
    "collapsed": true
   },
   "outputs": [],
   "source": [
    "# Define an observed density\n",
    "obs_vals = norm.pdf(qvals, loc=0.7, scale=1.0e-2)"
   ]
  },
  {
   "cell_type": "markdown",
   "metadata": {},
   "source": [
    "## What do we need to do with the data set to construct the consistent posterior?\n",
    "\n",
    "The fundamental assumption is that the data set we loaded comes from some ***prior*** knowledge, i.e., the parameter samples come from a prior and the QoI data are associated with these prior samples. \n",
    "\n",
    "All we need to do with these samples is perform density estimation on the QoI samples.\n",
    "\n",
    "***We do not need to know anything about this prior to define the re-weighting of these samples, which subsequently means we can use this existing sample set to generate i.i.d. samples from the posterior.*** "
   ]
  },
  {
   "cell_type": "code",
   "execution_count": 4,
   "metadata": {
    "collapsed": true,
    "scrolled": true
   },
   "outputs": [],
   "source": [
    "# Compute the pushforward of the prior\n",
    "q_kde = GKDE( qvals, 'silverman' )"
   ]
  },
  {
   "cell_type": "markdown",
   "metadata": {},
   "source": [
    "## Now we perform rejection sampling (see previous lecture for a review)\n",
    "\n",
    "Notice how ***fast*** this is because all the computations are taking place in a 1-dimensional data space."
   ]
  },
  {
   "cell_type": "code",
   "execution_count": 5,
   "metadata": {
    "collapsed": true
   },
   "outputs": [],
   "source": [
    "def rejection_sampling(r):\n",
    "    # Perform accept/reject sampling on a set of proposal samples using\n",
    "    # the weights r associated with the set of samples and return\n",
    "    # the indices idx of the proposal sample set that are accepted.\n",
    "    N = r.size # size of proposal sample set\n",
    "    check = np.random.uniform(low=0,high=1,size=N) # create random uniform weights to check r against\n",
    "    M = np.max(r)\n",
    "    new_r = r/M # normalize weights \n",
    "    idx = np.where(new_r>=check)[0] # rejection criterion\n",
    "    return idx"
   ]
  },
  {
   "cell_type": "code",
   "execution_count": 6,
   "metadata": {},
   "outputs": [
    {
     "name": "stdout",
     "output_type": "stream",
     "text": [
      "27.72\n"
     ]
    }
   ],
   "source": [
    "# Compute the posterior\n",
    "r = np.divide(obs_vals,q_kde(qvals))\n",
    "    \n",
    "samples_to_keep = rejection_sampling(r)\n",
    "\n",
    "post_q = qvals[samples_to_keep]\n",
    "post_lam = lam[:,samples_to_keep]\n",
    "\n",
    "accept_rate = samples_to_keep.size/lam.shape[0]\n",
    "print(accept_rate)"
   ]
  },
  {
   "cell_type": "markdown",
   "metadata": {},
   "source": [
    "## Don't forget to do some diagnostics"
   ]
  },
  {
   "cell_type": "code",
   "execution_count": 7,
   "metadata": {},
   "outputs": [
    {
     "name": "stdout",
     "output_type": "stream",
     "text": [
      "0.70001702555\n",
      "0.00993200897212\n",
      "0.996776630621\n",
      "0.737186244586\n"
     ]
    }
   ],
   "source": [
    "print(np.mean(post_q))\n",
    "print(np.sqrt(np.var(post_q)))\n",
    "print(np.mean(r))\n",
    "print(np.mean(r*np.log(r)))"
   ]
  },
  {
   "cell_type": "markdown",
   "metadata": {},
   "source": [
    "## Visualizing results\n",
    "\n",
    " * We almost always start by checking the push-forwards against the observed density.  \n",
    " \n",
    " \n",
    " * If the data space is higher-dimensional, we may only visualize the marginals of the densities, or we may instead opt to visualize certain statistics of the distribution or the marginals as we show below for the 100-dimensional parameter space."
   ]
  },
  {
   "cell_type": "code",
   "execution_count": 8,
   "metadata": {},
   "outputs": [
    {
     "data": {
      "image/png": "[encoded data removed]",
      "text/plain": [
       "<matplotlib.figure.Figure at 0x1a097512b0>"
      ]
     },
     "metadata": {},
     "output_type": "display_data"
    }
   ],
   "source": [
    "# Compare the observed and the pushforwards of prior and posterior\n",
    "qplot = np.linspace(0.6, 0.9, num=100)\n",
    "plt.clf()\n",
    "\n",
    "q_kde_plot = q_kde(qplot)\n",
    "obs_vals_plot = norm.pdf(qplot, loc=0.7, scale=1.0e-2)\n",
    "postq_kde = GKDE( post_q, 'silverman' )\n",
    "postq_kde_plot = postq_kde(qplot)\n",
    "\n",
    "oplot = plt.plot(qplot,obs_vals_plot, 'r-', linewidth=4, label=\"Observed\")\n",
    "prplot = plt.plot(qplot,q_kde_plot,'b-', linewidth=4, label=\"PF of prior\")\n",
    "poplot = plt.plot(qplot,postq_kde_plot,'k--', linewidth=4, label=\"PF of posterior\")\n",
    "plt.xlim([0.6,0.9])\n",
    "plt.xlabel(\"Quantity of interest\")\n",
    "plt.legend()\n",
    "plt.show()"
   ]
  },
  {
   "cell_type": "code",
   "execution_count": 9,
   "metadata": {},
   "outputs": [
    {
     "data": {
      "image/png": "[encoded data removed]",
      "text/plain": [
       "<matplotlib.figure.Figure at 0x1a0974c198>"
      ]
     },
     "metadata": {},
     "output_type": "display_data"
    }
   ],
   "source": [
    "plt.clf()\n",
    "param = np.arange(100)\n",
    "plt.barh(param,np.mean(post_lam,1))\n",
    "plt.xlim([-0.4,0.4])\n",
    "plt.xlabel(\"Mean of marginals of posterior\")\n",
    "plt.ylabel(\"KL Mode\")\n",
    "plt.show()"
   ]
  }
 ],
 "metadata": {
  "anaconda-cloud": {},
  "kernelspec": {
   "display_name": "Python 3",
   "language": "python",
   "name": "python3"
  },
  "language_info": {
   "codemirror_mode": {
    "name": "ipython",
    "version": 3
   },
   "file_extension": ".py",
   "mimetype": "text/x-python",
   "name": "python",
   "nbconvert_exporter": "python",
   "pygments_lexer": "ipython3",
   "version": "3.6.3"
  }
 },
 "nbformat": 4,
 "nbformat_minor": 2
}
