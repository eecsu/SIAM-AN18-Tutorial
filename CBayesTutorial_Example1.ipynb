{
 "cells": [
  {
   "cell_type": "markdown",
   "metadata": {},
   "source": [
    "# An Introduction to \"Consisten Bayesian\" Inversion \n",
    "\n",
    "## Example 1: The basics and a comparison to statistical Bayesian inference\n",
    "\n",
    "This tutorial introduces the basic ideas presented in \n",
    "\n",
    "_[***Combining Push-Forward Measures and Bayes' Rule to Construct Consistent Solutions to Stochastic Inverse Problems\n",
    "***, T. Butler, J. Jakeman, T. Wildey, SIAM J. Sci. Comput., 40(2), A984–A1011](https://epubs.siam.org/doi/abs/10.1137/16M1087229)_"
   ]
  },
  {
   "cell_type": "markdown",
   "metadata": {},
   "source": [
    "## Libraries\n",
    "\n",
    " * We make use of `numpy` to handle the sample sets defined as arrays, and we also use the `random` subpackage within `numpy` to generate random samples of various distributions.\n",
    " \n",
    " \n",
    " * We use a standard kernel densitmator in `scipy.stats` to approximate the densities on sample sets.\n",
    " \n",
    " \n",
    " * We use `matplotlib.pyplot` to visualize results."
   ]
  },
  {
   "cell_type": "code",
   "execution_count": 1,
   "metadata": {
    "collapsed": true
   },
   "outputs": [],
   "source": [
    "# The libraries we will use\n",
    "import numpy as np\n",
    "import matplotlib.pyplot as plt\n",
    "from scipy.stats import norm # The standard Normal distribution\n",
    "from scipy.stats import gaussian_kde as GKDE # A standard kernel density estimator"
   ]
  },
  {
   "cell_type": "markdown",
   "metadata": {},
   "source": [
    "## The big (and fuzzy) picture"
   ]
  },
  {
   "cell_type": "markdown",
   "metadata": {},
   "source": [
    "### Defining the input/output spaces and the mapping between them\n",
    "\n",
    " * Let $\\lambda\\in\\Lambda$ denote the inputs to some model, which we refer to as the model parameters.\n",
    " \n",
    " \n",
    " * The measurable (scalar) outputs of the model are referred to as quantities of interest (QoI), and denoted by $Q(\\lambda)$ to make the dependence on the parameters explicit.\n",
    " \n",
    " \n",
    " * Let $\\mathcal{D} = Q(\\Lambda)$ denote the range of observable data that can be predicted by the model."
   ]
  },
  {
   "cell_type": "markdown",
   "metadata": {},
   "source": [
    "### This example:\n",
    "\n",
    " * $\\Lambda=[-1,1]$ (this is dealt with implicitly later).\n",
    " \n",
    " \n",
    " * $Q(\\lambda) = \\lambda^p$ for $p=1$ or $5$\n",
    " \n",
    " \n",
    " * $\\mathcal{D} = Q(\\Lambda) = [-1,1]$ (we will explore the impacts of this later)."
   ]
  },
  {
   "cell_type": "code",
   "execution_count": 2,
   "metadata": {
    "collapsed": true
   },
   "outputs": [],
   "source": [
    "def QoI(lam,p): # defing a QoI mapping function\n",
    "    q = lam**p\n",
    "    return q"
   ]
  },
  {
   "cell_type": "markdown",
   "metadata": {},
   "source": [
    "### The inverse problem\n",
    "\n",
    "Given a probability measure on $Q(\\lambda)$ describing the uncertainty in observed data, determine a probability measure $P_\\Lambda$ on $\\Lambda$ that is ***consistent*** with both the model and observed data. \n",
    "\n",
    "### Consistent?\n",
    "\n",
    "By consistent, we mean the push-forward measure of $P_\\Lambda$ through the QoI map $Q(\\lambda)$ matches the probability measure given on $Q(\\lambda)$. \n",
    "\n",
    "In other words, we want $P_\\Lambda$ to be a ***pullback measure.***"
   ]
  },
  {
   "cell_type": "markdown",
   "metadata": {},
   "source": [
    "## Constructing a pullback measure in terms of a density.\n",
    "\n",
    "We first take an inventory of common \"ingredients\" used to formulate an inverse problem.\n",
    "\n",
    "\n",
    " * $\\pi_{\\Lambda}^{prior}$ is a density representing any prior knowledge on the relative likelihoods of parameters.\n",
    " \n",
    " \n",
    " * $\\pi_{\\mathcal{D}}^{obs}$ is a density describing the relative likelihoods of model outputs defining the observed data.\n",
    " \n",
    "\n",
    "To construct the pullback density, we utilize the ***push-forward of the prior***:\n",
    "\n",
    " \n",
    " * $\\pi_{\\mathcal{D}}^{Q(prior)}$ is the push-forward of the prior density and represents how the prior knowledge of relative likelihoods of parameter values defines a relative likelihood of model outputs.\n",
    " \n",
    "\n",
    "A pullback measure, which we refer to as a posterior measure, is then represented as a density in the form\n",
    "\n",
    "$$\n",
    "  \\large \\pi_\\Lambda^{post}(\\lambda) = \\pi_\\Lambda^{prior}(\\lambda) \\frac{\\pi_{\\mathcal{D}}^{obs}(Q(\\lambda))}{\\pi_{\\mathcal{D}}^{Q(prior)}(Q(\\lambda))}. \n",
    "$$"
   ]
  },
  {
   "cell_type": "markdown",
   "metadata": {},
   "source": [
    "## Some important notes\n",
    "\n",
    " * Since the push-forward of the prior appears in the denominator, we make the following ***predictability assumption*** to ensure this form of the posterior always has meaning:\n",
    " > There exists a constant $C>0$ such that $\\pi_{\\mathcal{D}}^{obs}(q) \\leq C\\pi_{\\mathcal{D}}^{Q(prior)}(q)$ for a.e. $q\\in\\mathcal{D}$.\n",
    " \n",
    " \n",
    " * This form of the posterior is ***stable*** (in the total-variation metric) with respect to perturbations in the prior and observed densities.\n",
    " \n",
    " \n",
    " * Since the prior and observed densities are assumed given, the ***construction of the posterior is reduced to constructing the push-forward of the prior***. In other words, solving a forward problem to obtain $\\pi_{\\mathcal{D}}^{Q(prior)}$ provides the necessary and sufficient information required to uniquely define the posterior.\n",
    " \n",
    " \n",
    " * In practice, we numerically approximate $\\pi_{\\mathcal{D}}^{Q(prior)}$ by generating a set of i.i.d. samples from the prior, evaluating the QoI map on this sample set, and then applying density estimation to this subsequent QoI sample set. \n",
    "\n",
    "\n",
    " * We prove that the error in the approximate posterior defined by this approximate push-forward of the prior is bounded by the error in the approximate push-forward, i.e., this process is numerically stable. "
   ]
  },
  {
   "cell_type": "markdown",
   "metadata": {},
   "source": [
    "### This example:\n",
    "\n",
    " * $\\pi_{\\Lambda}^{prior} \\sim U([-1,1])$\n",
    " \n",
    " \n",
    " * $\\pi_{\\mathcal{D}}^{obs} \\sim N(0.25,0.1^2)$\n",
    " \n",
    " \n",
    " * We construct $\\pi_{\\mathcal{D}}^{Q(prior)}$ for the two different QoI maps $\\lambda^p$ ($p=1$ or $5$) using `N` samples and the Gaussian Kernel Density Estimator (`GKDE`) imported from `scipy.stats`."
   ]
  },
  {
   "cell_type": "code",
   "execution_count": 3,
   "metadata": {
    "scrolled": true
   },
   "outputs": [],
   "source": [
    "# Compute the pushforward of the prior\n",
    "\n",
    "N = int(1E4) # number of samples from prior\n",
    "lam = np.random.uniform(low=-1,high=1,size=N) # sample set of the prior\n",
    "\n",
    "# Evaluate the two different QoI maps on this prior sample set\n",
    "qvals_linear = QoI(lam,1) # Evaluate lam^1 samples\n",
    "qvals_nonlinear = QoI(lam,5) # Evaluate lam^5 samples\n",
    "\n",
    "# Estimate push-forward densities for each QoI\n",
    "q_linear_kde = GKDE( qvals_linear ) \n",
    "q_nonlinear_kde = GKDE( qvals_nonlinear )"
   ]
  },
  {
   "cell_type": "code",
   "execution_count": 4,
   "metadata": {
    "collapsed": true
   },
   "outputs": [],
   "source": [
    "# Evaluate the observed density on the QoI sample set\n",
    "obs_vals_linear = norm.pdf(qvals_linear, loc=0.25, scale=0.1)\n",
    "obs_vals_nonlinear = norm.pdf(qvals_nonlinear, loc=0.25, scale=0.1)"
   ]
  },
  {
   "cell_type": "markdown",
   "metadata": {},
   "source": [
    "## Sampling the posterior with rejection sampling\n",
    "\n",
    "A simple [accept/reject sampling](https://en.wikipedia.org/wiki/Rejection_sampling) scheme can be applied to the same set of prior samples used in constructing the approximate push-forward density to generate a set of i.i.d. samples of the posterior. \n",
    "\n",
    "We do this by vectorizing a simple [accept/reject algorithm](https://en.wikipedia.org/wiki/Rejection_sampling#Algorithm) that we summarize below.\n",
    "\n",
    "Using the notation in the Wiki article, suppose we have samples from a random variable with density $g$, but we want to sample from a random variable with density $f$. \n",
    "\n",
    "We can perform accept/reject sampling if there exists $M>0$ such that $f(x)\\leq M g(x)$ for all $x$. \n",
    "\n",
    "Given this $M$, and a proposed sample $y$ from the random variable with density $g$, we check to see if we should accept $y$ as being a sample from the random variable with density $f$ as follows:\n",
    "\n",
    " * Generate uniform random sample $u\\sim U(0,1)$.\n",
    " \n",
    " \n",
    " * If $u < \\frac{f(y)}{Mg(y)}$, then accept $y$, otherwise reject $y$ as coming from the random variable with density $f$.\n",
    " \n",
    "## Connecting rejection sampling to our posterior\n",
    "\n",
    "The $g$ in our case is the prior and the $f$ is the posterior, so if we can perform accept/reject sampling by proposing samples from the prior, then there exists $M>0$ such that\n",
    "\n",
    "$$\n",
    "    \\pi_\\Lambda^{prior}(\\lambda) \\frac{\\pi_{\\mathcal{D}}^{obs}(Q(\\lambda))}{\\pi_{\\mathcal{D}}^{Q(prior)}(Q(\\lambda))} \\leq M \\pi_\\Lambda^{prior}(\\lambda).\n",
    "$$\n",
    "\n",
    "Dividing through by the prior and multiplying by the push-forward of the prior to both sides, we see that the ability to perform accept/reject sampling is guaranteed if there exists an $M$ such that\n",
    "\n",
    "$$\n",
    "    \\pi_{\\mathcal{D}}^{obs}(Q(\\lambda)) \\leq M \\pi_{\\mathcal{D}}^{Q(prior)},\n",
    "$$\n",
    "\n",
    "which is ***exactly the predictability assumption***.\n",
    "\n",
    "Moreover, by viewing the ratio\n",
    "\n",
    "$$\n",
    "    r(Q(\\lambda)) := \\frac{\\pi_{\\mathcal{D}}^{obs}(Q(\\lambda))}{\\pi_{\\mathcal{D}}^{Q(prior)}(Q(\\lambda))}\n",
    "$$\n",
    "\n",
    "as simply defining a re-weighting of the prior samples, we see that we can estimate $M$ by the maximum of $r(Q(\\lambda))$ on the sample set of the prior. \n",
    "Then, by comparing $r(Q(\\lambda))/M$ to uniform random variables, we can accept or reject a particular $\\lambda$ sample generated from the prior."
   ]
  },
  {
   "cell_type": "code",
   "execution_count": 5,
   "metadata": {
    "collapsed": true
   },
   "outputs": [],
   "source": [
    "def rejection_sampling(r):\n",
    "    # Perform accept/reject sampling on a set of proposal samples using\n",
    "    # the weights r associated with the set of samples and return\n",
    "    # the indices idx of the proposal sample set that are accepted.\n",
    "    N = r.size # size of proposal sample set\n",
    "    check = np.random.uniform(low=0,high=1,size=N) # create random uniform weights to check r against\n",
    "    M = np.max(r)\n",
    "    new_r = r/M # normalize weights \n",
    "    idx = np.where(new_r>=check)[0] # rejection criterion\n",
    "    return idx"
   ]
  },
  {
   "cell_type": "code",
   "execution_count": 6,
   "metadata": {},
   "outputs": [],
   "source": [
    "# Sample from the CBayes posterior\n",
    "r_linear = np.divide(obs_vals_linear,q_linear_kde(qvals_linear))\n",
    "r_nonlinear = np.divide(obs_vals_nonlinear,q_nonlinear_kde(qvals_nonlinear))\n",
    "    \n",
    "samples_to_keep_linear = rejection_sampling(r_linear)\n",
    "post_q_linear = qvals_linear[samples_to_keep_linear]\n",
    "post_lam_linear = lam[samples_to_keep_linear]\n",
    "\n",
    "samples_to_keep_nonlinear = rejection_sampling(r_nonlinear)\n",
    "post_q_nonlinear = qvals_nonlinear[samples_to_keep_nonlinear]\n",
    "post_lam_nonlinear = lam[samples_to_keep_nonlinear]"
   ]
  },
  {
   "cell_type": "markdown",
   "metadata": {},
   "source": [
    "## Some diagonistics\n",
    "\n",
    "In some cases, like in the linear QoI map, we have a good idea what the mean and standard deviation of the posterior should be, which are easily estimated and verified using the accepted sample set. \n",
    "In essentially every case we can check if the statistics on the push-forward of the posterior are reasonable by computing statistics of the `post_q_*` samples.\n",
    "But, statistics just tell part of the story, and we should in general check at least two things:\n",
    "\n",
    " 1. Did we satisfy the predictability assumption?\n",
    " \n",
    " 2. What did we gain by solving the inverse problem?\n",
    "\n",
    "Assuming the predictability assumption holds, then the posterior we construct is an actual density and ***should*** integrate to 1, i.e., $I(\\pi_\\Lambda^{post})=1$ where $I$ is the \"integrate\" function given by, \n",
    "\n",
    "$$\n",
    "    I(\\pi_\\Lambda^{post}) = \\int_\\Lambda \\pi_\\Lambda^{post}(\\lambda)\\, d\\mu_\\Lambda.\n",
    "$$\n",
    "\n",
    "Then, by direct substitution, \n",
    "\n",
    "$$\n",
    "    I(\\pi_\\Lambda^{post}) = \\int_\\Lambda \\pi_\\Lambda^{prior}(\\lambda)r(Q(\\lambda))\\, d\\mu_\\Lambda = \\int_\\Lambda r(Q(\\lambda))\\, dP_\\Lambda^{prior} = \\mathbb{E}(r(Q(\\lambda))).\n",
    "$$\n",
    "\n",
    "***Thus, if the sample mean of $r(Q(\\lambda))$ is approximately 1, then we have numerically verified that the predictability assumption holds.*** (We will check this value below and investigate it more closely later for values that fall below 0.9.)\n",
    "\n",
    "The ***information gain*** is often quantified by the [Kullback-Leibler divergence](https://en.wikipedia.org/wiki/Kullback%E2%80%93Leibler_divergence) (KL divergence) of the posterior with respect to the prior, which is given by\n",
    "\n",
    "$$\n",
    "    KL(\\pi_{\\Lambda}^{post} \\, : \\, \\pi_{\\Lambda}^{prior}) = \\int_\\Lambda \\pi_\\Lambda^{post}(\\lambda)\\log\\left(\\frac{\\pi_\\Lambda^{post}(\\lambda)}{\\pi_\\Lambda^{prior}(\\lambda)}\\right)\\, d\\mu_\\Lambda = \\int_\\Lambda r(Q(\\lambda))\\log r(Q(\\lambda))\\, dP_\\Lambda^{prior}.\n",
    "$$\n",
    "\n",
    "The KL divergence is greater than or equal to 0, with larger values indicating that the posterior differs more significantly from the prior. \n",
    "We note that choosing different priors or different QoI maps clearly can impact the KL divergence."
   ]
  },
  {
   "cell_type": "code",
   "execution_count": 7,
   "metadata": {},
   "outputs": [
    {
     "name": "stdout",
     "output_type": "stream",
     "text": [
      "0.24950923153\n",
      "0.0985991988625\n",
      "1.00375418633\n",
      "1.60102816929\n"
     ]
    }
   ],
   "source": [
    "print(np.mean(post_q_linear))\n",
    "print(np.sqrt(np.var(post_q_linear)))\n",
    "print(np.mean(r_linear))\n",
    "print(np.mean(r_linear*np.log(r_linear)))"
   ]
  },
  {
   "cell_type": "code",
   "execution_count": 8,
   "metadata": {},
   "outputs": [
    {
     "name": "stdout",
     "output_type": "stream",
     "text": [
      "0.259246627095\n",
      "0.0981870190045\n",
      "0.929468385308\n",
      "1.81846286988\n"
     ]
    }
   ],
   "source": [
    "print(np.mean(post_q_nonlinear))\n",
    "print(np.sqrt(np.var(post_q_nonlinear)))\n",
    "print(np.mean(r_nonlinear))\n",
    "print(np.mean(r_nonlinear*np.log(r_nonlinear)))"
   ]
  },
  {
   "cell_type": "markdown",
   "metadata": {},
   "source": [
    "## Comparison to the statistical Bayesian posterior\n",
    "\n",
    "The traditional formulation of a posterior density is of a conditional density of the form\n",
    "\n",
    "$$\n",
    "    \\tilde{\\pi}_\\Lambda^{post}(\\lambda \\, | \\, q) = \\pi_\\Lambda^{prior}\\frac{ L(q\\, |\\,  \\lambda) }{C}\n",
    "$$\n",
    "\n",
    "where $\\pi_\\Lambda^{prior}$ is the same prior used in our formulation, but\n",
    "\n",
    " * $L(q\\, | \\, \\lambda)$ is a ***data likelihood*** function that is not necessarily the same as the observed density.\n",
    " \n",
    " \n",
    " * $C$ is a normalizing constant that is usually not important when generating samples from the posterior. We must compute it to compare to our posterior.\n",
    " \n",
    "\n",
    "Fundamentally, a statistical Bayesian posterior is solving a different problem (parameter identification under uncertainty) formulated under different assumptions.\n",
    "Below, we consider the same prior and QoI maps as before, and we make the data likelihood function match the observed density."
   ]
  },
  {
   "cell_type": "code",
   "execution_count": 9,
   "metadata": {
    "collapsed": true
   },
   "outputs": [],
   "source": [
    "# compute normalizing constants\n",
    "C_linear = np.mean(obs_vals_linear) \n",
    "C_nonlinear = np.mean(obs_vals_nonlinear)\n",
    "\n",
    "sbayes_r_linear = obs_vals_linear/C_linear\n",
    "sbayes_r_nonlinear = obs_vals_nonlinear/C_nonlinear\n",
    "\n",
    "sbayes_samples_to_keep_linear = rejection_sampling(sbayes_r_linear)\n",
    "sbayes_post_q_linear = qvals_linear[sbayes_samples_to_keep_linear]\n",
    "sbayes_post_lam_linear = lam[sbayes_samples_to_keep_linear]\n",
    "\n",
    "\n",
    "sbayes_samples_to_keep_nonlinear = rejection_sampling(sbayes_r_nonlinear)\n",
    "sbayes_post_q_nonlinear = qvals_nonlinear[sbayes_samples_to_keep_nonlinear]\n",
    "sbayes_post_lam_nonlinear = lam[sbayes_samples_to_keep_nonlinear]"
   ]
  },
  {
   "cell_type": "markdown",
   "metadata": {},
   "source": [
    "### Note about plot generated below:\n",
    "\n",
    " * The push-forward of the prior is not quite constant over $\\mathcal{D}=[-1,1]$ due to the use of the KDE, but it is effectively constant over the support of the observed density."
   ]
  },
  {
   "cell_type": "code",
   "execution_count": 10,
   "metadata": {},
   "outputs": [
    {
     "data": {
      "image/png": "[encoded data removed]",
      "text/plain": [
       "<matplotlib.figure.Figure at 0x7ff35013fa90>"
      ]
     },
     "metadata": {},
     "output_type": "display_data"
    }
   ],
   "source": [
    "# Compare the observed and the pushforwards of prior, Cbayes posterior and Sbayes posterior\n",
    "qplot = np.linspace(-1,1, num=100)\n",
    "plt.clf()\n",
    "\n",
    "# for plotting, we use the analytical push-forward since it is just a constant \n",
    "# otherwise, the ends are curved which could be fixed but not worth the effort\n",
    "obs_vals_plot = norm.pdf(qplot, loc=0.25, scale=0.1)\n",
    "\n",
    "postq_lin_kde = GKDE( post_q_linear )\n",
    "sb_postq_lin_kde = GKDE( sbayes_post_q_linear )\n",
    "\n",
    "oplot = plt.plot(qplot,obs_vals_plot, 'r-', linewidth=4, label=\"Observed\")\n",
    "prplot = plt.plot(qplot,q_linear_kde(qplot),'b-', linewidth=4, label=\"PF of prior\")\n",
    "poplot = plt.plot(qplot,postq_lin_kde(qplot),'k--', linewidth=4, label=\"PF of CBayes posterior\")\n",
    "sb_poplot = plt.plot(qplot,sb_postq_lin_kde(qplot),'g--', linewidth=4, label=\"PF of SBayes posterior\")\n",
    "\n",
    "plt.xlim([-1,1])\n",
    "plt.xlabel(\"Quantity of interest\")\n",
    "plt.legend()\n",
    "plt.show()"
   ]
  },
  {
   "cell_type": "code",
   "execution_count": 11,
   "metadata": {},
   "outputs": [
    {
     "data": {
      "image/png": "[encoded data removed]",
      "text/plain": [
       "<matplotlib.figure.Figure at 0x7ff350085208>"
      ]
     },
     "metadata": {},
     "output_type": "display_data"
    }
   ],
   "source": [
    "# Compare the observed and the pushforwards of prior, Cbayes posterior and Sbayes posterior\n",
    "qplot = np.linspace(-1,1, num=100)\n",
    "plt.clf()\n",
    "\n",
    "obs_vals_plot = norm.pdf(qplot, loc=0.25, scale=0.1)\n",
    "postq_nl_kde = GKDE( post_q_nonlinear )\n",
    "sb_postq_nl_kde = GKDE( sbayes_post_q_nonlinear )\n",
    "\n",
    "oplot = plt.plot(qplot,obs_vals_plot, 'r-', linewidth=4, label=\"Observed\")\n",
    "prplot = plt.plot(qplot,q_nonlinear_kde(qplot),'b-', linewidth=4, label=\"PF of prior\")\n",
    "poplot = plt.plot(qplot,postq_nl_kde(qplot),'k--', linewidth=4, label=\"PF of Cbayes posterior\")\n",
    "sb_poplot = plt.plot(qplot,sb_postq_nl_kde(qplot),'g--', linewidth=4, label=\"PF of SBayes posterior\")\n",
    "\n",
    "\n",
    "plt.xlim([-1,1])\n",
    "\n",
    "plt.xlabel(\"Quantity of interest\")\n",
    "plt.legend()\n",
    "plt.show()"
   ]
  },
  {
   "cell_type": "markdown",
   "metadata": {
    "collapsed": true
   },
   "source": [
    "### Investigating different observed densities\n",
    "\n",
    "Once the push-forward of the prior, $\\pi_\\mathcal{D}^{Q(prior)}$, is constructed, the posterior for any observed density is trivially defined ***as long as the predictability assumption still holds.*** "
   ]
  },
  {
   "cell_type": "markdown",
   "metadata": {},
   "source": [
    "### For the observed densities below, use the predictability assumption to explain why one of these is labeled as `_good` and the other as `_bad`."
   ]
  },
  {
   "cell_type": "code",
   "execution_count": 12,
   "metadata": {},
   "outputs": [],
   "source": [
    "obs_vals_nonlinear_good = norm.pdf(qvals_nonlinear, loc=0.0, scale=0.1)\n",
    "obs_vals_nonlinear_bad  = norm.pdf(qvals_nonlinear, loc=1.0, scale=0.1)"
   ]
  },
  {
   "cell_type": "markdown",
   "metadata": {},
   "source": [
    "### Below, we investigate what should be good and bad. Some results may surprise you."
   ]
  },
  {
   "cell_type": "code",
   "execution_count": 13,
   "metadata": {},
   "outputs": [],
   "source": [
    "r_nonlinear_good = np.divide(obs_vals_nonlinear_good,q_nonlinear_kde(qvals_nonlinear))\n",
    "r_nonlinear_bad = np.divide(obs_vals_nonlinear_bad,q_nonlinear_kde(qvals_nonlinear))\n",
    "\n",
    "samples_to_keep_nonlinear_good = rejection_sampling(r_nonlinear_good)\n",
    "post_q_nonlinear_good = qvals_nonlinear[samples_to_keep_nonlinear_good]\n",
    "post_lam_nonlinear_good = lam[samples_to_keep_nonlinear_good]\n",
    "\n",
    "samples_to_keep_nonlinear_bad = rejection_sampling(r_nonlinear_bad)\n",
    "post_q_nonlinear_bad = qvals_nonlinear[samples_to_keep_nonlinear_bad]\n",
    "post_lam_nonlinear_bad = lam[samples_to_keep_nonlinear_bad]"
   ]
  },
  {
   "cell_type": "markdown",
   "metadata": {},
   "source": [
    "### The `_bad` results may not seem so surprising."
   ]
  },
  {
   "cell_type": "code",
   "execution_count": 14,
   "metadata": {},
   "outputs": [
    {
     "name": "stdout",
     "output_type": "stream",
     "text": [
      "0.934339171051\n",
      "0.0507360178246\n",
      "0.608887375609\n",
      "2.0466421623\n"
     ]
    }
   ],
   "source": [
    "print(np.mean(post_q_nonlinear_bad))\n",
    "print(np.sqrt(np.var(post_q_nonlinear_bad)))\n",
    "print(np.mean(r_nonlinear_bad))\n",
    "print(np.mean(r_nonlinear_bad*np.log(r_nonlinear_bad)))"
   ]
  },
  {
   "cell_type": "markdown",
   "metadata": {},
   "source": [
    "### But, these `_good` results are not as \"good\" as before in terms of the expected value of $r(Q(\\lambda))$."
   ]
  },
  {
   "cell_type": "code",
   "execution_count": 15,
   "metadata": {},
   "outputs": [
    {
     "name": "stdout",
     "output_type": "stream",
     "text": [
      "-0.000706168387815\n",
      "0.0976226539227\n",
      "0.867323148639\n",
      "0.157829856918\n"
     ]
    }
   ],
   "source": [
    "print(np.mean(post_q_nonlinear_good))\n",
    "print(np.sqrt(np.var(post_q_nonlinear_good)))\n",
    "print(np.mean(r_nonlinear_good))\n",
    "print(np.mean(r_nonlinear_good*np.log(r_nonlinear_good)))"
   ]
  },
  {
   "cell_type": "markdown",
   "metadata": {},
   "source": [
    "### What do the plots tell us?"
   ]
  },
  {
   "cell_type": "code",
   "execution_count": 16,
   "metadata": {},
   "outputs": [
    {
     "data": {
      "image/png": "[encoded data removed]",
      "text/plain": [
       "<matplotlib.figure.Figure at 0x7ff35013f898>"
      ]
     },
     "metadata": {},
     "output_type": "display_data"
    }
   ],
   "source": [
    "# Compare the observed and the pushforwards of prior and Cbayes posterior\n",
    "qplot = np.linspace(-1,1, num=100)\n",
    "plt.clf()\n",
    "\n",
    "obs_vals_plot = norm.pdf(qplot, loc=0, scale=0.1)\n",
    "postq_nl_kde = GKDE( post_q_nonlinear_good )\n",
    "\n",
    "\n",
    "oplot = plt.plot(qplot,obs_vals_plot, 'r-', linewidth=4, label=\"Observed\")\n",
    "prplot = plt.plot(qplot,q_nonlinear_kde(qplot),'b-', linewidth=4, label=\"PF of prior\")\n",
    "poplot = plt.plot(qplot,postq_nl_kde(qplot),'k--', linewidth=4, label=\"PF of Cbayes posterior\")\n",
    "\n",
    "plt.xlim([-1,1])\n",
    "\n",
    "plt.xlabel(\"Quantity of interest\")\n",
    "plt.legend()\n",
    "plt.show()"
   ]
  },
  {
   "cell_type": "markdown",
   "metadata": {},
   "source": [
    "### The problem lies in the approximation of the push-forward of the prior."
   ]
  },
  {
   "cell_type": "code",
   "execution_count": 17,
   "metadata": {},
   "outputs": [
    {
     "data": {
      "image/png": "[encoded data removed]",
      "text/plain": [
       "<matplotlib.figure.Figure at 0x7ff34ffa8eb8>"
      ]
     },
     "metadata": {},
     "output_type": "display_data"
    }
   ],
   "source": [
    "# Compute the pushforward of the prior for different sample sizes\n",
    "qplot = np.linspace(-1,1, num=100)\n",
    "\n",
    "Ns = [1E4, 1E5, 1E6]\n",
    "cs = ['b','r','g']\n",
    "\n",
    "for N,c in zip(Ns,cs):\n",
    "    lam1 = np.random.uniform(low=-1,high=1,size=int(N)) # sample set of the prior\n",
    "\n",
    "    qvals_nonlinear1 = QoI(lam1,5) # Evaluate lam^5 samples\n",
    " \n",
    "    q_nonlinear_kde1 = GKDE( qvals_nonlinear1 )\n",
    "    \n",
    "    var = \"PF approx, N=\" + str(int(N))\n",
    "    plt.plot(qplot,q_nonlinear_kde1(qplot),c, linewidth=4, label=var)\n",
    "\n",
    "# There is an exact pdf of the push-forward\n",
    "plt.plot(qplot, 1/10*np.abs(qplot)**(-4/5),'k',label='Exact PF')    \n",
    "    \n",
    "plt.legend()\n",
    "plt.show()"
   ]
  },
  {
   "cell_type": "markdown",
   "metadata": {},
   "source": [
    "### What happens when we use the exact push-forward?"
   ]
  },
  {
   "cell_type": "code",
   "execution_count": 18,
   "metadata": {},
   "outputs": [],
   "source": [
    "r_nonlinear_good = np.divide(obs_vals_nonlinear_good,1/10*np.abs(qvals_nonlinear)**(-4/5))\n",
    "r_nonlinear_bad = np.divide(obs_vals_nonlinear_bad,1/10*np.abs(qvals_nonlinear)**(-4/5))\n",
    "\n",
    "samples_to_keep_nonlinear_good = rejection_sampling(r_nonlinear_good)\n",
    "post_q_nonlinear_good = qvals_nonlinear[samples_to_keep_nonlinear_good]\n",
    "post_lam_nonlinear_good = lam[samples_to_keep_nonlinear_good]\n",
    "\n",
    "samples_to_keep_nonlinear_bad = rejection_sampling(r_nonlinear_bad)\n",
    "post_q_nonlinear_bad = qvals_nonlinear[samples_to_keep_nonlinear_bad]\n",
    "post_lam_nonlinear_bad = lam[samples_to_keep_nonlinear_bad]"
   ]
  },
  {
   "cell_type": "code",
   "execution_count": 19,
   "metadata": {},
   "outputs": [
    {
     "name": "stdout",
     "output_type": "stream",
     "text": [
      "0.930201226096\n",
      "0.0519985212715\n",
      "0.531712309323\n",
      "1.68580320212\n"
     ]
    }
   ],
   "source": [
    "print(np.mean(post_q_nonlinear_bad))\n",
    "print(np.sqrt(np.var(post_q_nonlinear_bad)))\n",
    "print(np.mean(r_nonlinear_bad))\n",
    "print(np.mean(r_nonlinear_bad*np.log(r_nonlinear_bad)))"
   ]
  },
  {
   "cell_type": "code",
   "execution_count": 20,
   "metadata": {},
   "outputs": [
    {
     "name": "stdout",
     "output_type": "stream",
     "text": [
      "-0.00509205894163\n",
      "0.0997630045984\n",
      "0.985265585901\n",
      "0.820226899784\n"
     ]
    }
   ],
   "source": [
    "print(np.mean(post_q_nonlinear_good))\n",
    "print(np.sqrt(np.var(post_q_nonlinear_good)))\n",
    "print(np.mean(r_nonlinear_good))\n",
    "print(np.mean(r_nonlinear_good*np.log(r_nonlinear_good)))"
   ]
  },
  {
   "cell_type": "code",
   "execution_count": 21,
   "metadata": {},
   "outputs": [
    {
     "data": {
      "image/png": "[encoded data removed]",
      "text/plain": [
       "<matplotlib.figure.Figure at 0x7ff35013ec88>"
      ]
     },
     "metadata": {},
     "output_type": "display_data"
    }
   ],
   "source": [
    "# Compare the observed and the pushforwards of prior and Cbayes posterior\n",
    "qplot = np.linspace(-1,1, num=100)\n",
    "plt.clf()\n",
    "\n",
    "obs_vals_plot = norm.pdf(qplot, loc=0, scale=0.1)\n",
    "postq_nl_kde = GKDE( post_q_nonlinear_good )\n",
    "\n",
    "\n",
    "oplot = plt.plot(qplot,obs_vals_plot, 'r-', linewidth=4, label=\"Observed\")\n",
    "prplot = plt.plot(qplot,1/10*np.abs(qplot)**(-4/5),'b-', linewidth=4, label=\"PF of prior\")\n",
    "poplot = plt.plot(qplot,postq_nl_kde(qplot),'k--', linewidth=4, label=\"PF of Cbayes posterior\")\n",
    "\n",
    "plt.xlim([-1,1])\n",
    "\n",
    "plt.xlabel(\"Quantity of interest\")\n",
    "plt.legend()\n",
    "plt.show()"
   ]
  },
  {
   "cell_type": "code",
   "execution_count": null,
   "metadata": {
    "collapsed": true
   },
   "outputs": [],
   "source": []
  }
 ],
 "metadata": {
  "anaconda-cloud": {},
  "kernelspec": {
   "display_name": "Python 3",
   "language": "python",
   "name": "python3"
  },
  "language_info": {
   "codemirror_mode": {
    "name": "ipython",
    "version": 3
   },
   "file_extension": ".py",
   "mimetype": "text/x-python",
   "name": "python",
   "nbconvert_exporter": "python",
   "pygments_lexer": "ipython3",
   "version": "3.6.1"
  }
 },
 "nbformat": 4,
 "nbformat_minor": 2
}
